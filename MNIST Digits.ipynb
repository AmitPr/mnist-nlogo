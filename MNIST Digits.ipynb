{
 "cells": [
  {
   "cell_type": "code",
   "execution_count": 1,
   "metadata": {},
   "outputs": [],
   "source": [
    "from __future__ import absolute_import, division, print_function, unicode_literals\n",
    "%matplotlib inline\n",
    "%load_ext autoreload\n",
    "%autoreload 2\n",
    "import tensorflow as tf\n",
    "from tensorflow import keras\n",
    "\n",
    "from tensorflow.keras import layers\n",
    "from tqdm import tqdm_notebook as tqdm\n",
    "from tensorflow.keras import backend as K\n",
    "\n",
    "\n",
    "import sklearn.metrics as metrics\n",
    "\n",
    "import numpy as np\n",
    "\n",
    "import matplotlib.pyplot as plt\n",
    "\n",
    "###Tensorflow session\n",
    "config = tf.compat.v1.ConfigProto()\n",
    "config.gpu_options.allow_growth = True\n",
    "tf.compat.v1.keras.backend.set_session(tf.compat.v1.Session(config=config))"
   ]
  },
  {
   "cell_type": "code",
   "execution_count": 2,
   "metadata": {},
   "outputs": [],
   "source": [
    "import gzip\n",
    "import sys\n",
    "import pickle\n",
    "f = gzip.open('mnist.pkl.gz', 'rb')\n",
    "if sys.version_info < (3,):\n",
    "    data = pickle.load(f)\n",
    "else:\n",
    "    data = pickle.load(f, encoding='bytes')\n",
    "f.close()"
   ]
  },
  {
   "cell_type": "code",
   "execution_count": 3,
   "metadata": {},
   "outputs": [],
   "source": [
    "batch_size = 128\n",
    "num_classes = 10\n",
    "epochs = 20\n",
    "\n",
    "(X_train, y_train), (X_test, y_test) = data\n",
    "\n",
    "# building the input vector from the 28x28 pixels\n",
    "X_train = X_train.reshape(X_train.shape[0], 28, 28,1)\n",
    "X_test = X_test.reshape(X_test.shape[0], 28, 28,1)\n",
    "X_train = X_train.astype('float32')\n",
    "X_test = X_test.astype('float32')\n",
    "\n",
    "# normalizing the data to help with the training\n",
    "X_train /= 255\n",
    "X_test /= 255"
   ]
  },
  {
   "cell_type": "code",
   "execution_count": 4,
   "metadata": {},
   "outputs": [
    {
     "data": {
      "text/plain": [
       "(60000, 28, 28, 1)"
      ]
     },
     "execution_count": 4,
     "metadata": {},
     "output_type": "execute_result"
    }
   ],
   "source": [
    "X_train.shape"
   ]
  },
  {
   "cell_type": "code",
   "execution_count": 6,
   "metadata": {
    "scrolled": false
   },
   "outputs": [
    {
     "name": "stdout",
     "output_type": "stream",
     "text": [
      "Model: \"model_1\"\n",
      "_________________________________________________________________\n",
      "Layer (type)                 Output Shape              Param #   \n",
      "=================================================================\n",
      "input_2 (InputLayer)         [(None, 28, 28, 1)]       0         \n",
      "_________________________________________________________________\n",
      "conv2d_4 (Conv2D)            (None, 26, 26, 32)        320       \n",
      "_________________________________________________________________\n",
      "conv2d_5 (Conv2D)            (None, 24, 24, 32)        9248      \n",
      "_________________________________________________________________\n",
      "max_pooling2d_2 (MaxPooling2 (None, 12, 12, 32)        0         \n",
      "_________________________________________________________________\n",
      "conv2d_6 (Conv2D)            (None, 10, 10, 64)        18496     \n",
      "_________________________________________________________________\n",
      "max_pooling2d_3 (MaxPooling2 (None, 5, 5, 64)          0         \n",
      "_________________________________________________________________\n",
      "conv2d_7 (Conv2D)            (None, 3, 3, 128)         73856     \n",
      "_________________________________________________________________\n",
      "flatten (Flatten)            (None, 1152)              0         \n",
      "_________________________________________________________________\n",
      "dense_2 (Dense)              (None, 16)                18448     \n",
      "_________________________________________________________________\n",
      "dense_3 (Dense)              (None, 10)                170       \n",
      "=================================================================\n",
      "Total params: 120,538\n",
      "Trainable params: 120,538\n",
      "Non-trainable params: 0\n",
      "_________________________________________________________________\n",
      "Train on 60000 samples, validate on 10000 samples\n",
      "Epoch 1/20\n",
      "60000/60000 [==============================] - 59s 989us/sample - loss: 0.2035 - accuracy: 0.9402 - val_loss: 0.0717 - val_accuracy: 0.9782\n",
      "Epoch 2/20\n",
      "60000/60000 [==============================] - 60s 1ms/sample - loss: 0.0694 - accuracy: 0.9786 - val_loss: 0.0549 - val_accuracy: 0.9823\n",
      "Epoch 3/20\n",
      "60000/60000 [==============================] - 57s 942us/sample - loss: 0.0517 - accuracy: 0.9840 - val_loss: 0.0583 - val_accuracy: 0.9815\n",
      "Epoch 4/20\n",
      "60000/60000 [==============================] - 60s 996us/sample - loss: 0.0438 - accuracy: 0.9860 - val_loss: 0.0459 - val_accuracy: 0.9849\n",
      "Epoch 5/20\n",
      "60000/60000 [==============================] - 68s 1ms/sample - loss: 0.0366 - accuracy: 0.9886 - val_loss: 0.0502 - val_accuracy: 0.9845\n",
      "Epoch 6/20\n",
      "60000/60000 [==============================] - 66s 1ms/sample - loss: 0.0339 - accuracy: 0.9891 - val_loss: 0.0486 - val_accuracy: 0.9856\n",
      "Epoch 7/20\n",
      "60000/60000 [==============================] - 66s 1ms/sample - loss: 0.0300 - accuracy: 0.9904 - val_loss: 0.0487 - val_accuracy: 0.9849\n",
      "Epoch 8/20\n",
      "60000/60000 [==============================] - 65s 1ms/sample - loss: 0.0276 - accuracy: 0.9913 - val_loss: 0.0410 - val_accuracy: 0.9883\n",
      "Epoch 9/20\n",
      "60000/60000 [==============================] - 68s 1ms/sample - loss: 0.0248 - accuracy: 0.9915 - val_loss: 0.0461 - val_accuracy: 0.9863\n",
      "Epoch 10/20\n",
      "60000/60000 [==============================] - 58s 967us/sample - loss: 0.0222 - accuracy: 0.9929 - val_loss: 0.0627 - val_accuracy: 0.9823\n",
      "Epoch 11/20\n",
      "60000/60000 [==============================] - 52s 861us/sample - loss: 0.0192 - accuracy: 0.9938 - val_loss: 0.0562 - val_accuracy: 0.9853\n",
      "Epoch 12/20\n",
      "60000/60000 [==============================] - 50s 842us/sample - loss: 0.0213 - accuracy: 0.9928 - val_loss: 0.0525 - val_accuracy: 0.9865\n",
      "Epoch 13/20\n",
      "60000/60000 [==============================] - 51s 848us/sample - loss: 0.0176 - accuracy: 0.9941 - val_loss: 0.0597 - val_accuracy: 0.9846\n",
      "Epoch 14/20\n",
      "60000/60000 [==============================] - 62s 1ms/sample - loss: 0.0176 - accuracy: 0.9940 - val_loss: 0.0680 - val_accuracy: 0.9839\n",
      "Epoch 15/20\n",
      "60000/60000 [==============================] - 54s 898us/sample - loss: 0.0160 - accuracy: 0.9946 - val_loss: 0.0660 - val_accuracy: 0.9833\n",
      "Epoch 16/20\n",
      "60000/60000 [==============================] - 56s 931us/sample - loss: 0.0136 - accuracy: 0.9953 - val_loss: 0.0658 - val_accuracy: 0.9856\n",
      "Epoch 17/20\n",
      "60000/60000 [==============================] - 55s 919us/sample - loss: 0.0129 - accuracy: 0.9956 - val_loss: 0.0533 - val_accuracy: 0.9884\n",
      "Epoch 18/20\n",
      "60000/60000 [==============================] - 55s 916us/sample - loss: 0.0191 - accuracy: 0.9940 - val_loss: 0.0628 - val_accuracy: 0.9856\n",
      "Epoch 19/20\n",
      "60000/60000 [==============================] - 55s 909us/sample - loss: 0.0110 - accuracy: 0.9964 - val_loss: 0.0567 - val_accuracy: 0.9881\n",
      "Epoch 20/20\n",
      "60000/60000 [==============================] - 55s 915us/sample - loss: 0.0115 - accuracy: 0.9962 - val_loss: 0.0622 - val_accuracy: 0.9857\n",
      "[0.062196569468174985, 0.9857]\n"
     ]
    }
   ],
   "source": [
    "inputs = layers.Input(shape=(28,28,1))\n",
    "x = layers.Conv2D(32,(3,3))(inputs)\n",
    "x = layers.Conv2D(32,(3,3))(x)\n",
    "x = layers.MaxPooling2D(2)(x)\n",
    "x = layers.Conv2D(64,(3,3))(x)\n",
    "x = layers.MaxPooling2D(2)(x)\n",
    "x = layers.Conv2D(128,(3,3))(x)\n",
    "x = layers.Flatten()(x)\n",
    "x = layers.Dense(16, activation='elu')(x)\n",
    "x = layers.Dense(10, activation='softmax')(x)\n",
    "model = keras.models.Model(inputs, x)\n",
    "model.compile(loss=\"sparse_categorical_crossentropy\",\n",
    "              optimizer=keras.optimizers.Adam(),\n",
    "              metrics=['accuracy'])\n",
    "model.summary()\n",
    "history = model.fit(X_train, y_train,\n",
    "          batch_size=batch_size,\n",
    "          epochs=epochs,\n",
    "          verbose=1,\n",
    "          validation_data=(X_test, y_test))\n",
    "score = model.evaluate(X_test, y_test, verbose=0)\n",
    "print(score)"
   ]
  },
  {
   "cell_type": "code",
   "execution_count": 8,
   "metadata": {},
   "outputs": [
    {
     "data": {
      "image/png": "[encoded data removed]",
      "text/plain": [
       "<Figure size 432x288 with 1 Axes>"
      ]
     },
     "metadata": {
      "needs_background": "light"
     },
     "output_type": "display_data"
    },
    {
     "data": {
      "image/png": "[encoded data removed]",
      "text/plain": [
       "<Figure size 432x288 with 1 Axes>"
      ]
     },
     "metadata": {
      "needs_background": "light"
     },
     "output_type": "display_data"
    }
   ],
   "source": [
    "plt.title(\"accuracy / time\")\n",
    "plt.plot(history.history[\"accuracy\"])\n",
    "plt.plot(history.history[\"val_accuracy\"])\n",
    "plt.show()\n",
    "plt.title(\"loss / time\")\n",
    "plt.plot(history.history[\"loss\"])\n",
    "plt.plot(history.history[\"val_loss\"])\n",
    "plt.show()"
   ]
  },
  {
   "cell_type": "code",
   "execution_count": 9,
   "metadata": {},
   "outputs": [],
   "source": [
    "model.save('mnist_model.h5')"
   ]
  },
  {
   "cell_type": "code",
   "execution_count": null,
   "metadata": {},
   "outputs": [],
   "source": []
  }
 ],
 "metadata": {
  "kernelspec": {
   "display_name": "Python 3",
   "language": "python",
   "name": "python3"
  },
  "language_info": {
   "codemirror_mode": {
    "name": "ipython",
    "version": 3
   },
   "file_extension": ".py",
   "mimetype": "text/x-python",
   "name": "python",
   "nbconvert_exporter": "python",
   "pygments_lexer": "ipython3",
   "version": "3.7.4"
  }
 },
 "nbformat": 4,
 "nbformat_minor": 2
}
